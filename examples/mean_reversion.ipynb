{
 "cells": [
  {
   "cell_type": "code",
   "execution_count": null,
   "metadata": {
    "collapsed": true
   },
   "outputs": [],
   "source": [
    "# Load gemini\n",
    "from context import gemini\n",
    "from gemini  import data, engine, helpers\n",
    "\n",
    "# Global Imports\n",
    "import pandas as pd\n",
    "import numpy as np\n",
    "\n",
    "# Build mean reversion strategy\n",
    "from talib.abstract import *"
   ]
  },
  {
   "cell_type": "code",
   "execution_count": null,
   "metadata": {
    "collapsed": true
   },
   "outputs": [],
   "source": [
    "def bands(df, timeperiod=26, nbdevup=2.6, nbdevdn=2.6, matype=0):\n",
    "    cols = ['high', 'low', 'open', 'close', 'volume']\n",
    "    HLOCV = {key: df[key].values for key in df if key in cols}\n",
    "    u, m, l = BBANDS(HLOCV, timeperiod=timeperiod, nbdevup=nbdevup, nbdevdn=nbdevdn, matype=matype)\n",
    "    df['upper']  = u\n",
    "    df['middle'] = m\n",
    "    df['lower']  = l\n",
    "    return df\n",
    "\n",
    "def touches(df):\n",
    "    df['touch_upper'] = df.high >= df.upper\n",
    "    df['touch_lower'] = df.low  <= df.lower\n",
    "    df['crossing_dn'] = (df.close < df.middle) & (df.open > df.middle)\n",
    "    df['crossing_up'] = (df.close > df.middle) & (df.open < df.middle)\n",
    "    return df"
   ]
  },
  {
   "cell_type": "code",
   "execution_count": 10,
   "metadata": {},
   "outputs": [],
   "source": [
    "def logic(account, lookback):\n",
    "    try:\n",
    "        lookback = helpers.period(lookback)\n",
    "        today = lookback.loc(0)\n",
    "        \n",
    "        # Selling\n",
    "        if today.touch_upper:\n",
    "            exit_price = today.upper\n",
    "            for position in account.positions:  \n",
    "                if position.type == 'long':\n",
    "                    account.close_position(position=position, \n",
    "                                           percent=1.0, \n",
    "                                           current_price=exit_price)\n",
    "\n",
    "        if today.crossing_up:\n",
    "            exit_price = today.close\n",
    "            for position in account.positions:  \n",
    "                if position.type == 'long':\n",
    "                    account.close_position(position=position, \n",
    "                                           percent=1.0, \n",
    "                                           current_price=exit_price)\n",
    "                    \n",
    "        # Buying\n",
    "        if today.touch_lower | today.crossing_dn:\n",
    "            risk          = 1\n",
    "            entry_price   = today.lower\n",
    "            entry_capital = account.buying_power*risk\n",
    "            if entry_capital > 0:\n",
    "                account.enter_position(type='long', \n",
    "                                       entry_capital=entry_capital, \n",
    "                                       entry_price=entry_price)\n",
    "        if today.crossing_dn:\n",
    "            risk          = 1\n",
    "            entry_price   = today.close\n",
    "            entry_capital = account.buying_power*risk\n",
    "            if entry_capital > 0:\n",
    "                account.enter_position(type='long', \n",
    "                                       entry_capital=entry_capital, \n",
    "                                       entry_price=entry_price)\n",
    "    \n",
    "    except Exception as e:\n",
    "        print(e)\n",
    "        pass # Handles lookback errors in beginning of dataset"
   ]
  },
  {
   "cell_type": "code",
   "execution_count": 11,
   "metadata": {},
   "outputs": [
    {
     "data": {
      "text/html": [
       "<div>\n",
       "<style scoped>\n",
       "    .dataframe tbody tr th:only-of-type {\n",
       "        vertical-align: middle;\n",
       "    }\n",
       "\n",
       "    .dataframe tbody tr th {\n",
       "        vertical-align: top;\n",
       "    }\n",
       "\n",
       "    .dataframe thead th {\n",
       "        text-align: right;\n",
       "    }\n",
       "</style>\n",
       "<table border=\"1\" class=\"dataframe\">\n",
       "  <thead>\n",
       "    <tr style=\"text-align: right;\">\n",
       "      <th></th>\n",
       "      <th>date</th>\n",
       "      <th>low</th>\n",
       "      <th>high</th>\n",
       "      <th>open</th>\n",
       "      <th>close</th>\n",
       "      <th>volume</th>\n",
       "    </tr>\n",
       "  </thead>\n",
       "  <tbody>\n",
       "    <tr>\n",
       "      <th>0</th>\n",
       "      <td>2017-01-16</td>\n",
       "      <td>816.00000000</td>\n",
       "      <td>834.15680536</td>\n",
       "      <td>818.76200000</td>\n",
       "      <td>829.00000001</td>\n",
       "      <td>643792.21530254</td>\n",
       "    </tr>\n",
       "    <tr>\n",
       "      <th>1</th>\n",
       "      <td>2017-01-17</td>\n",
       "      <td>827.75970935</td>\n",
       "      <td>908.53017772</td>\n",
       "      <td>829.00000001</td>\n",
       "      <td>902.70000066</td>\n",
       "      <td>2679383.29369767</td>\n",
       "    </tr>\n",
       "    <tr>\n",
       "      <th>2</th>\n",
       "      <td>2017-01-18</td>\n",
       "      <td>850.00000000</td>\n",
       "      <td>912.00000000</td>\n",
       "      <td>902.27579339</td>\n",
       "      <td>886.20000033</td>\n",
       "      <td>1959863.34974819</td>\n",
       "    </tr>\n",
       "    <tr>\n",
       "      <th>3</th>\n",
       "      <td>2017-01-19</td>\n",
       "      <td>883.30000000</td>\n",
       "      <td>906.99999900</td>\n",
       "      <td>886.20000054</td>\n",
       "      <td>900.23240036</td>\n",
       "      <td>1219112.38795964</td>\n",
       "    </tr>\n",
       "    <tr>\n",
       "      <th>4</th>\n",
       "      <td>2017-01-20</td>\n",
       "      <td>882.54320000</td>\n",
       "      <td>902.42999999</td>\n",
       "      <td>900.30000001</td>\n",
       "      <td>895.00000000</td>\n",
       "      <td>841765.13205928</td>\n",
       "    </tr>\n",
       "  </tbody>\n",
       "</table>\n",
       "</div>"
      ],
      "text/plain": [
       "        date          low         high         open        close  \\\n",
       "0 2017-01-16 816.00000000 834.15680536 818.76200000 829.00000001   \n",
       "1 2017-01-17 827.75970935 908.53017772 829.00000001 902.70000066   \n",
       "2 2017-01-18 850.00000000 912.00000000 902.27579339 886.20000033   \n",
       "3 2017-01-19 883.30000000 906.99999900 886.20000054 900.23240036   \n",
       "4 2017-01-20 882.54320000 902.42999999 900.30000001 895.00000000   \n",
       "\n",
       "            volume  \n",
       "0  643792.21530254  \n",
       "1 2679383.29369767  \n",
       "2 1959863.34974819  \n",
       "3 1219112.38795964  \n",
       "4  841765.13205928  "
      ]
     },
     "execution_count": 11,
     "metadata": {},
     "output_type": "execute_result"
    }
   ],
   "source": [
    "# Apply strategy to example\n",
    "df = pd.read_csv(\"data/BTC_USD.csv\", header=0, index_col=0)\n",
    "df['date'] = pd.to_datetime(df['date'])\n",
    "df.head()"
   ]
  },
  {
   "cell_type": "code",
   "execution_count": 12,
   "metadata": {
    "collapsed": true
   },
   "outputs": [],
   "source": [
    "df = bands(df)\n",
    "df = touches(df)"
   ]
  },
  {
   "cell_type": "code",
   "execution_count": 13,
   "metadata": {
    "collapsed": true
   },
   "outputs": [],
   "source": [
    "backtest = engine.backtest(df)"
   ]
  },
  {
   "cell_type": "code",
   "execution_count": 14,
   "metadata": {},
   "outputs": [
    {
     "data": {
      "text/html": [
       "<div>\n",
       "<style scoped>\n",
       "    .dataframe tbody tr th:only-of-type {\n",
       "        vertical-align: middle;\n",
       "    }\n",
       "\n",
       "    .dataframe tbody tr th {\n",
       "        vertical-align: top;\n",
       "    }\n",
       "\n",
       "    .dataframe thead th {\n",
       "        text-align: right;\n",
       "    }\n",
       "</style>\n",
       "<table border=\"1\" class=\"dataframe\">\n",
       "  <thead>\n",
       "    <tr style=\"text-align: right;\">\n",
       "      <th></th>\n",
       "      <th>benchmark_equity</th>\n",
       "      <th>strategy_equity</th>\n",
       "      <th>benchmark_return</th>\n",
       "      <th>strategy_return</th>\n",
       "    </tr>\n",
       "    <tr>\n",
       "      <th>date</th>\n",
       "      <th></th>\n",
       "      <th></th>\n",
       "      <th></th>\n",
       "      <th></th>\n",
       "    </tr>\n",
       "  </thead>\n",
       "  <tbody>\n",
       "    <tr>\n",
       "      <th>2017-11-27</th>\n",
       "      <td>9711.00000013</td>\n",
       "      <td>6865.28571855</td>\n",
       "      <td>0.04595519</td>\n",
       "      <td>0.00000000</td>\n",
       "    </tr>\n",
       "    <tr>\n",
       "      <th>2017-11-28</th>\n",
       "      <td>9879.96875865</td>\n",
       "      <td>6865.28571855</td>\n",
       "      <td>0.01739973</td>\n",
       "      <td>0.00000000</td>\n",
       "    </tr>\n",
       "    <tr>\n",
       "      <th>2017-11-29</th>\n",
       "      <td>9702.00000000</td>\n",
       "      <td>6865.28571855</td>\n",
       "      <td>-0.01801309</td>\n",
       "      <td>0.00000000</td>\n",
       "    </tr>\n",
       "    <tr>\n",
       "      <th>2017-11-30</th>\n",
       "      <td>9907.67682035</td>\n",
       "      <td>6865.28571855</td>\n",
       "      <td>0.02119942</td>\n",
       "      <td>0.00000000</td>\n",
       "    </tr>\n",
       "    <tr>\n",
       "      <th>2017-12-01</th>\n",
       "      <td>9659.09950232</td>\n",
       "      <td>6865.28571855</td>\n",
       "      <td>-0.02508936</td>\n",
       "      <td>0.00000000</td>\n",
       "    </tr>\n",
       "  </tbody>\n",
       "</table>\n",
       "</div>"
      ],
      "text/plain": [
       "            benchmark_equity  strategy_equity  benchmark_return  \\\n",
       "date                                                              \n",
       "2017-11-27     9711.00000013    6865.28571855        0.04595519   \n",
       "2017-11-28     9879.96875865    6865.28571855        0.01739973   \n",
       "2017-11-29     9702.00000000    6865.28571855       -0.01801309   \n",
       "2017-11-30     9907.67682035    6865.28571855        0.02119942   \n",
       "2017-12-01     9659.09950232    6865.28571855       -0.02508936   \n",
       "\n",
       "            strategy_return  \n",
       "date                         \n",
       "2017-11-27       0.00000000  \n",
       "2017-11-28       0.00000000  \n",
       "2017-11-29       0.00000000  \n",
       "2017-11-30       0.00000000  \n",
       "2017-12-01       0.00000000  "
      ]
     },
     "execution_count": 14,
     "metadata": {},
     "output_type": "execute_result"
    }
   ],
   "source": [
    "output = backtest.start(1000, logic)\n",
    "output.tail()"
   ]
  },
  {
   "cell_type": "code",
   "execution_count": 15,
   "metadata": {},
   "outputs": [
    {
     "name": "stdout",
     "output_type": "stream",
     "text": [
      "-------------- Results ----------------\n",
      "\n",
      "Buy and Hold : 1079.72%\n",
      "Net Profit   : 10797.2\n",
      "Strategy     : 586.53%\n",
      "Net Profit   : 5865.29\n",
      "Longs        : 9\n",
      "sells        : 10\n",
      "shorts       : 0\n",
      "covers       : 0\n",
      "--------------------\n",
      "Total Trades : 19\n",
      "\n",
      "---------------------------------------\n"
     ]
    }
   ],
   "source": [
    "backtest.results()"
   ]
  },
  {
   "cell_type": "markdown",
   "metadata": {},
   "source": [
    "### Feed results into Pyfolio analysis"
   ]
  },
  {
   "cell_type": "code",
   "execution_count": 9,
   "metadata": {},
   "outputs": [
    {
     "name": "stderr",
     "output_type": "stream",
     "text": [
      "/Users/anthonyfederico/anaconda3/lib/python3.6/site-packages/theano/configdefaults.py:560: UserWarning: DeprecationWarning: there is no c++ compiler.This is deprecated and with Theano 0.11 a c++ compiler will be mandatory\n",
      "  warnings.warn(\"DeprecationWarning: there is no c++ compiler.\"\n",
      "WARNING (theano.configdefaults): g++ not detected ! Theano will be unable to execute optimized C-implementations (for both CPU and GPU) and will default to Python implementations. Performance will be severely degraded. To remove this warning, set Theano flags cxx to an empty string.\n",
      "WARNING (theano.tensor.blas): Using NumPy C-API based implementation for BLAS functions.\n",
      "/Users/anthonyfederico/anaconda3/lib/python3.6/site-packages/h5py/__init__.py:34: FutureWarning: Conversion of the second argument of issubdtype from `float` to `np.floating` is deprecated. In future, it will be treated as `np.float64 == np.dtype(float).type`.\n",
      "  from ._conv import register_converters as _register_converters\n"
     ]
    }
   ],
   "source": [
    "import pyfolio as pf\n",
    "%matplotlib inline\n",
    "\n",
    "# silence warnings\n",
    "import warnings\n",
    "warnings.filterwarnings('ignore')"
   ]
  },
  {
   "cell_type": "code",
   "execution_count": null,
   "metadata": {
    "scrolled": false
   },
   "outputs": [],
   "source": [
    "pf.create_returns_tear_sheet(output['strategy_return'], benchmark_rets=output['benchmark_return'])"
   ]
  },
  {
   "cell_type": "code",
   "execution_count": null,
   "metadata": {
    "collapsed": true
   },
   "outputs": [],
   "source": []
  }
 ],
 "metadata": {
  "kernelspec": {
   "display_name": "Python 3",
   "language": "python",
   "name": "python3"
  },
  "language_info": {
   "codemirror_mode": {
    "name": "ipython",
    "version": 3
   },
   "file_extension": ".py",
   "mimetype": "text/x-python",
   "name": "python",
   "nbconvert_exporter": "python",
   "pygments_lexer": "ipython3",
   "version": "3.6.3"
  }
 },
 "nbformat": 4,
 "nbformat_minor": 2
}
